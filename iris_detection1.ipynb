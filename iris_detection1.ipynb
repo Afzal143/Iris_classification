{
 "cells": [
  {
   "cell_type": "code",
   "execution_count": 1,
   "metadata": {
    "collapsed": false
   },
   "outputs": [
    {
     "name": "stdout",
     "output_type": "stream",
     "text": [
      "['Verginica']\n",
      "['Verginica']\n",
      "Accuracy for DecisionTree: 100.0\n",
      "Accuracy for SVM: 93.33333333333333\n",
      "Accuracy for perceptron: 60.0\n",
      "Accuracy for KNN: 86.66666666666667\n",
      "Best gender classifier is SVM\n"
     ]
    }
   ],
   "source": [
    "from sklearn import tree\n",
    "from sklearn.svm import SVC\n",
    "from sklearn.linear_model import Perceptron\n",
    "from sklearn.neighbors import KNeighborsClassifier\n",
    "from sklearn.metrics import accuracy_score\n",
    "import numpy as np\n",
    "\n",
    "# Data and labels\n",
    "\n",
    "# X= Petal_width, Petal_length, Sepal_width, Sepal_length\n",
    "# Y = Class (Setosa, Versicolor, Virginica)\n",
    "\n",
    "X = [[0.2, 1.4, 3.5, 5.1], [0.3, 1.4, 3.4, 4.6], [0.1, 1.4, 3, 4.8], [0.2, 1.6, 3.2, 4.7], [0.4, 1.5, 3.4, 5.4],\n",
    "     [1.4, 4.7, 3.2, 7], [1.5, 4.5, 3.2, 6.4], [1, 3.3, 2.4, 4.9], [1.3, 4.6, 2.9, 6.6], [1.2, 4.7, 2.8, 6.1],\n",
    "     [2.1, 6.6, 3, 7.6], [1.8, 5.8, 2.5, 6.7], [2, 5, 2.5, 6.7], [2.3, 5.7, 3.2, 6.9], [2, 6.7, 2.8, 7.7]]\n",
    "\n",
    "Y = ['Setosa', ' Setosa', 'Setosa', 'Setosa', 'Setosa', 'Versicolor', 'Versicolor', 'Versicolor', 'Versicolor', 'Versicolor', 'Verginica', 'Verginica', 'Verginica', 'Verginica', 'Verginica']\n",
    "\n",
    "# Classifiers\n",
    "# using the default values for all the hyperparameters\n",
    "clf_tree = tree.DecisionTreeClassifier()\n",
    "clf_svm = SVC()\n",
    "clf_perceptron = Perceptron()\n",
    "clf_KNN = KNeighborsClassifier()\n",
    "\n",
    "clf_tree = clf_tree.fit(X, Y)\n",
    "clf_KNN = clf_KNN.fit(X, Y)\n",
    "prediction = clf_tree.predict([[2.2, 6.7, 3.8, 7.7]])   # a measurement of Setosa from iris Dataset but which not include in the our list\n",
    "prediction1 = clf_KNN.predict([[2.2, 6.7, 3.8, 7.7]])\n",
    "\n",
    "print(prediction)\n",
    "print(prediction1)\n",
    "\n",
    "\n",
    "\n",
    "\n",
    "# Training the models\n",
    "clf_tree.fit(X, Y)\n",
    "clf_svm.fit(X, Y)\n",
    "clf_perceptron.fit(X, Y)\n",
    "clf_KNN.fit(X, Y)\n",
    "\n",
    "# Testing using the same data\n",
    "pred_tree = clf_tree.predict(X)\n",
    "acc_tree = accuracy_score(Y, pred_tree) * 100\n",
    "print('Accuracy for DecisionTree: {}'.format(acc_tree))\n",
    "\n",
    "pred_svm = clf_svm.predict(X)\n",
    "acc_svm = accuracy_score(Y, pred_svm) * 100\n",
    "print('Accuracy for SVM: {}'.format(acc_svm))\n",
    "\n",
    "pred_per = clf_perceptron.predict(X)\n",
    "acc_per = accuracy_score(Y, pred_per) * 100\n",
    "print('Accuracy for perceptron: {}'.format(acc_per))\n",
    "\n",
    "pred_KNN = clf_KNN.predict(X)\n",
    "acc_KNN = accuracy_score(Y, pred_KNN) * 100\n",
    "print('Accuracy for KNN: {}'.format(acc_KNN))\n",
    "\n",
    "# The best classifier from svm, per, KNN\n",
    "index = np.argmax([acc_svm, acc_per, acc_KNN])\n",
    "classifiers = {0: 'SVM', 1: 'Perceptron', 2: 'KNN'}\n",
    "print('Best gender classifier is {}'.format(classifiers[index]))"
   ]
  },
  {
   "cell_type": "code",
   "execution_count": null,
   "metadata": {
    "collapsed": true
   },
   "outputs": [],
   "source": []
  }
 ],
 "metadata": {
  "kernelspec": {
   "display_name": "Python 3",
   "language": "python",
   "name": "python3"
  },
  "language_info": {
   "codemirror_mode": {
    "name": "ipython",
    "version": 3
   },
   "file_extension": ".py",
   "mimetype": "text/x-python",
   "name": "python",
   "nbconvert_exporter": "python",
   "pygments_lexer": "ipython3",
   "version": "3.5.3"
  }
 },
 "nbformat": 4,
 "nbformat_minor": 2
}
